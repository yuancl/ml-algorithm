{
 "cells": [
  {
   "cell_type": "code",
   "execution_count": 3,
   "metadata": {
    "collapsed": true
   },
   "outputs": [],
   "source": [
    "# %load ../../standard_import.txt\n",
    "import pandas as pd\n",
    "import numpy as np\n",
    "import matplotlib as mpl\n",
    "import matplotlib.pyplot as plt\n",
    "\n",
    "# load MATLAB files\n",
    "from scipy.io import loadmat\n",
    "from scipy.optimize import minimize\n",
    "\n",
    "from sklearn.linear_model import LogisticRegression\n",
    "\n",
    "pd.set_option('display.notebook_repr_html', False)\n",
    "pd.set_option('display.max_columns', None)\n",
    "pd.set_option('display.max_rows', 150)\n",
    "pd.set_option('display.max_seq_items', None)\n",
    " \n",
    "#%config InlineBackend.figure_formats = {'pdf',}\n",
    "%matplotlib inline\n",
    "\n",
    "import seaborn as sns\n",
    "sns.set_context('notebook')\n",
    "sns.set_style('white')"
   ]
  },
  {
   "cell_type": "code",
   "execution_count": 5,
   "metadata": {
    "collapsed": false
   },
   "outputs": [
    {
     "name": "stdout",
     "output_type": "stream",
     "text": [
      "['y', 'X', '__version__', '__header__', '__globals__']\n",
      "X.shape: (5000, 401)\n",
      "y.shape: (5000, 1)\n"
     ]
    }
   ],
   "source": [
    "data = loadmat('data/ex3data1.mat')\n",
    "print data.keys()\n",
    "# data['X'].shape\n",
    "# data['y'].shape\n",
    "\n",
    "y = data['y']\n",
    "# Add constant for intercept\n",
    "X = np.c_[np.ones((data['X'].shape[0],1)), data['X']]\n",
    "\n",
    "print('X.shape: {}'.format(X.shape))\n",
    "print('y.shape: {}'.format(y.shape))"
   ]
  },
  {
   "cell_type": "code",
   "execution_count": 6,
   "metadata": {
    "collapsed": false
   },
   "outputs": [
    {
     "name": "stdout",
     "output_type": "stream",
     "text": [
      "(30, 400)\n",
      "(20, 600)\n"
     ]
    },
    {
     "data": {
      "text/plain": [
       "(-0.5, 599.5, 19.5, -0.5)"
      ]
     },
     "execution_count": 6,
     "metadata": {},
     "output_type": "execute_result"
    },
    {
     "data": {
      "image/png": "[encoded data removed]",
      "text/plain": [
       "<matplotlib.figure.Figure at 0x108232110>"
      ]
     },
     "metadata": {},
     "output_type": "display_data"
    }
   ],
   "source": [
    "sample = np.random.choice(X.shape[0], 30)\n",
    "# sample\n",
    "print X[sample,1:].shape\n",
    "# plt.imshow(X[sample,1:])\n",
    "# print type(X[sample,1:])\n",
    "print X[sample,1:].reshape(-1,20).T.shape   #这里的20要理解，因为图片是20*20的\n",
    "plt.imshow(X[sample,1:].reshape(-1,20).T)\n",
    "# plt.imshow(X[1,1:].reshape(-1,1).T)\n",
    "plt.axis('off')\n",
    "# print X[sample,1:].reshape(-1,20).shape"
   ]
  },
  {
   "cell_type": "code",
   "execution_count": 7,
   "metadata": {
    "collapsed": true
   },
   "outputs": [],
   "source": [
    "def sigmoid(z):\n",
    "    return(1.0 / (1 + np.exp(-z)))\n"
   ]
  },
  {
   "cell_type": "markdown",
   "metadata": {
    "collapsed": true
   },
   "source": [
    "H向量化推导\n",
    "<img src=\"pic/exe3/vectorize_h.jpg\" width=50% height=50%>\n",
    "Cost fun推导及向量化表示\n",
    "<img src=\"pic/exe3/vectorize_J.jpg\" width=50% height=50%>\n",
    "<img src=\"pic/exe3/onlne_vectorize_J.png\" width=75% height=75%>"
   ]
  },
  {
   "cell_type": "code",
   "execution_count": 8,
   "metadata": {
    "collapsed": true
   },
   "outputs": [],
   "source": [
    "def cost_function_reg(theta, reg, X, y):\n",
    "    m = y.size\n",
    "    h = sigmoid(X.dot(theta))\n",
    "    \n",
    "    J = -1*(1.0/m)*(np.log(h).T.dot(y)+np.log(1-h).T.dot(1-y)) + (reg/(2*m))*np.sum(np.square(theta[1:]))\n",
    "    \n",
    "    if np.isnan(J[0]):\n",
    "        return(np.inf)\n",
    "    return(J[0])\n"
   ]
  },
  {
   "cell_type": "markdown",
   "metadata": {},
   "source": [
    "梯度的推导及正则化\n",
    "<img src=\"pic/exe3/vectorize_gradient.jpg\" width=50% height=50%>"
   ]
  },
  {
   "cell_type": "code",
   "execution_count": 9,
   "metadata": {
    "collapsed": true
   },
   "outputs": [],
   "source": [
    "def gradient_reg(theta, reg, X,y):\n",
    "    m = y.size\n",
    "    h = sigmoid(X.dot(theta.reshape(-1,1)))\n",
    "#     h = sigmoid(X.dot(theta))\n",
    "    grad = (1.0/m)*X.T.dot(h-y) + (reg/m)*np.r_[[[0]],theta[1:].reshape(-1,1)]\n",
    "        \n",
    "    return(grad.flatten())\n"
   ]
  },
  {
   "cell_type": "code",
   "execution_count": 10,
   "metadata": {
    "collapsed": false
   },
   "outputs": [],
   "source": [
    "def one_vs_all(reg, X,y, classes) :\n",
    "    #10x401,没一行表示一个classes的theata值，因为res.x返回是1*n的\n",
    "    all_theta = np.zeros((classes, X.shape[1]))\n",
    "    # 每一个class训练时候的初始化theta,401x1,图片像素是20*20，每个像素点都看做一个特征\n",
    "    initial_theta = np.zeros(X.shape[1])\n",
    "    # 已经把0映射为10了\n",
    "    for c in np.arange(1, classes+1):\n",
    "        # y == c：y的值需要重新设置,和class相等就位1,否则就为0\n",
    "        res = minimize(cost_function_reg, initial_theta, args=(reg, X, (y == c)*1), method=None,\n",
    "                       jac=gradient_reg, options={'maxiter':50})\n",
    "        all_theta[c-1] = res.x\n",
    "    return all_theta\n",
    "\n",
    "theta = one_vs_all(0.1, X, y, 10)\n",
    "# theta"
   ]
  },
  {
   "cell_type": "code",
   "execution_count": 11,
   "metadata": {
    "collapsed": false
   },
   "outputs": [
    {
     "name": "stdout",
     "output_type": "stream",
     "text": [
      "the accuracy is 93.24%\n"
     ]
    }
   ],
   "source": [
    "def predict(all_theta, X, y) :\n",
    "    \"\"\"\n",
    "    all_theta: 10*401\n",
    "    X: 5000*401\n",
    "    y: 5000*1\n",
    "    \"\"\"\n",
    "    # predict_y: 5000*1 一维数组,对每一个样本进行的预测\n",
    "    # np.argmax返回最大数的下标，axis没行\n",
    "    predict_y = np.argmax(sigmoid(X.dot(all_theta.T)), axis=1)+1\n",
    "    print 'the accuracy is {}%'.format(np.mean(predict_y==y.ravel())*100)\n",
    "    \n",
    "    \n",
    "predict(theta, X, y)"
   ]
  },
  {
   "cell_type": "markdown",
   "metadata": {
    "collapsed": true
   },
   "source": [
    "Nerual network"
   ]
  },
  {
   "cell_type": "code",
   "execution_count": 13,
   "metadata": {
    "collapsed": false
   },
   "outputs": [
    {
     "name": "stdout",
     "output_type": "stream",
     "text": [
      "Theta1 weights :  (25, 401)\n",
      "Theta2 wgights :  (10, 26)\n",
      "X wgights :  (5000, 401)\n",
      "y wgights :  (5000, 1)\n",
      "[ -2.25623899e-02  -1.05624163e-08   2.19414684e-09  -6.92223359e-06\n",
      "   8.88278871e-05  -2.42735628e-04  -2.70957302e-03   1.45757191e-03\n",
      "   2.46026364e-03   7.13629532e-04]\n"
     ]
    }
   ],
   "source": [
    "weights = loadmat('data/ex3weights.mat')\n",
    "weights.keys()\n",
    "Theta1 = weights['Theta1']\n",
    "Theta2 = weights['Theta2']\n",
    "print 'Theta1.shape : ',weights['Theta1'].shape\n",
    "print 'Theta2.shape : ',weights['Theta2'].shape\n",
    "print 'X.shape : ',X.shape\n",
    "print 'y.shape : ',y.shape\n",
    "\n",
    "print Theta1[0,0:10]"
   ]
  },
  {
   "cell_type": "markdown",
   "metadata": {},
   "source": [
    "<img src=\"pic/exe3/neural_network.png\" width=40% height=40%>"
   ]
  },
  {
   "cell_type": "code",
   "execution_count": 17,
   "metadata": {
    "collapsed": false
   },
   "outputs": [
    {
     "name": "stdout",
     "output_type": "stream",
     "text": [
      "accuracy is 97.52%\n"
     ]
    }
   ],
   "source": [
    "def nerual_network_predict(X, y, Theta1, Theta2) :\n",
    "    \"\"\"\n",
    "    Theta1 (25, 401)\n",
    "    Theta2 (10, 26)\n",
    "    \"\"\"\n",
    "    \n",
    "    # 401 * 5000\n",
    "    a_1 = X.T\n",
    "    \n",
    "    # z_2: 25 * 5000\n",
    "    z_2 = Theta1.dot(X.T)\n",
    "    # a_2: 26 * 5000\n",
    "    a_2 = np.c_[np.ones((X.shape[0],1)), sigmoid(z_2).T].T\n",
    "    \n",
    "    # z_3: 10 * 5000\n",
    "    z_3 = Theta2.dot(a_2)\n",
    "    # a_3: 10 * 5000\n",
    "    a_3 = sigmoid(z_3)\n",
    "    \n",
    "    predict = np.argmax(a_3, axis=0)+1\n",
    "    \n",
    "    print 'accuracy is {}%'.format(np.mean(predict == y.ravel())*100)\n",
    "    \n",
    "nerual_network_predict(X,y,Theta1,Theta2)  \n",
    "    "
   ]
  },
  {
   "cell_type": "code",
   "execution_count": null,
   "metadata": {
    "collapsed": true
   },
   "outputs": [],
   "source": []
  }
 ],
 "metadata": {
  "kernelspec": {
   "display_name": "Python 2",
   "language": "python",
   "name": "python2"
  },
  "language_info": {
   "codemirror_mode": {
    "name": "ipython",
    "version": 2
   },
   "file_extension": ".py",
   "mimetype": "text/x-python",
   "name": "python",
   "nbconvert_exporter": "python",
   "pygments_lexer": "ipython2",
   "version": "2.7.13"
  }
 },
 "nbformat": 4,
 "nbformat_minor": 2
}
