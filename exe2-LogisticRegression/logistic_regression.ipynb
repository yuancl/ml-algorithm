{
 "cells": [
  {
   "cell_type": "code",
   "execution_count": 1,
   "metadata": {
    "collapsed": false
   },
   "outputs": [],
   "source": [
    "import pandas as pd\n",
    "import numpy as np\n",
    "import matplotlib as mpl\n",
    "import matplotlib.pyplot as plt\n",
    "\n",
    "from scipy.optimize import minimize\n",
    "\n",
    "from sklearn.preprocessing import PolynomialFeatures\n",
    "\n",
    "data = np.loadtxt('data/ex2data1.txt',delimiter=',')\n",
    "\n",
    "\n",
    "X = np.c_[np.ones(data.shape[0]), data[:,0:2]]\n",
    "Y = np.c_[data[:,2]]\n"
   ]
  },
  {
   "cell_type": "markdown",
   "metadata": {},
   "source": [
    "<img src=\"pic/exe2/sigmod.png\" width=60% height=50%>"
   ]
  },
  {
   "cell_type": "code",
   "execution_count": 2,
   "metadata": {
    "collapsed": false
   },
   "outputs": [
    {
     "data": {
      "text/plain": [
       "array([ 0.5,  0.5,  0.5,  0.5,  0.5,  0.5,  0.5,  0.5,  0.5,  0.5,  0.5,\n",
       "        0.5,  0.5,  0.5,  0.5,  0.5,  0.5,  0.5,  0.5,  0.5,  0.5,  0.5,\n",
       "        0.5,  0.5,  0.5,  0.5,  0.5,  0.5,  0.5,  0.5,  0.5,  0.5,  0.5,\n",
       "        0.5,  0.5,  0.5,  0.5,  0.5,  0.5,  0.5,  0.5,  0.5,  0.5,  0.5,\n",
       "        0.5,  0.5,  0.5,  0.5,  0.5,  0.5,  0.5,  0.5,  0.5,  0.5,  0.5,\n",
       "        0.5,  0.5,  0.5,  0.5,  0.5,  0.5,  0.5,  0.5,  0.5,  0.5,  0.5,\n",
       "        0.5,  0.5,  0.5,  0.5,  0.5,  0.5,  0.5,  0.5,  0.5,  0.5,  0.5,\n",
       "        0.5,  0.5,  0.5,  0.5,  0.5,  0.5,  0.5,  0.5,  0.5,  0.5,  0.5,\n",
       "        0.5,  0.5,  0.5,  0.5,  0.5,  0.5,  0.5,  0.5,  0.5,  0.5,  0.5,\n",
       "        0.5])"
      ]
     },
     "execution_count": 2,
     "metadata": {},
     "output_type": "execute_result"
    }
   ],
   "source": [
    "def sigmoid(z) :\n",
    "    return 1/(1+np.exp(-z))\n",
    "\n",
    "# sigmoid(-1)\n",
    "\n",
    "def hyposthesis(theta, X) :\n",
    "    \"\"\"\n",
    "    向量化表示hyposthesis\n",
    "    theta: 1*n\n",
    "    X: m*n\n",
    "    return: 1:n * n*m = 1*m(一位数组)\n",
    "    \"\"\"\n",
    "    return 1/(1+np.exp(-(theta.dot(X.T))))\n",
    "              \n",
    "              \n",
    "theta = np.zeros(X.shape[1])\n",
    "hyposthesis(theta, X)\n",
    "\n"
   ]
  },
  {
   "cell_type": "markdown",
   "metadata": {},
   "source": [
    "Cost fun:\n",
    "<img src=\"pic/exe2/costFun.png\" width=50%>"
   ]
  },
  {
   "cell_type": "code",
   "execution_count": 3,
   "metadata": {
    "collapsed": false
   },
   "outputs": [
    {
     "data": {
      "text/plain": [
       "0.69314718055994518"
      ]
     },
     "execution_count": 3,
     "metadata": {},
     "output_type": "execute_result"
    }
   ],
   "source": [
    "def costFun(theta, X, Y) :\n",
    "    \"\"\"\n",
    "    costFun 向量化，矩阵化表示\n",
    "    theta: 1*n\n",
    "    X: m*n\n",
    "    Y: m*1\n",
    "    \"\"\"\n",
    "    # h: 1*m\n",
    "    m = X.shape[0]\n",
    "    h = hyposthesis(theta, X)\n",
    "    \n",
    "    J = 1.0/m*(-(np.log(h).dot(Y)) - np.log(1-h.T).dot((1-Y)))\n",
    "    return J[0]\n",
    "    \n",
    "costFun(theta, X, Y)"
   ]
  },
  {
   "cell_type": "markdown",
   "metadata": {},
   "source": [
    "Gradient :\n",
    "<img src=\"pic/exe2/gd.png\" width=35% height=35%>"
   ]
  },
  {
   "cell_type": "code",
   "execution_count": 9,
   "metadata": {
    "collapsed": false
   },
   "outputs": [],
   "source": [
    "def gradient(theta, X, Y):\n",
    "    \"\"\"\n",
    "    theta: 一维数组\n",
    "    X: m*n\n",
    "    Y: m*1\n",
    "    return 一维数组\n",
    "    \"\"\"\n",
    "    m = X.shape[0]\n",
    "    H = hyposthesis(theta, X)\n",
    "    return (1.0/m*((H-Y.T).dot(X))).flatten()\n",
    "\n",
    "# theta = np.c_[np.zeros(X.shape[1])]\n",
    "# gradient(theta, X, Y)\n",
    "    \n"
   ]
  },
  {
   "cell_type": "code",
   "execution_count": 7,
   "metadata": {
    "collapsed": false
   },
   "outputs": [
    {
     "name": "stdout",
     "output_type": "stream",
     "text": [
      "(100,)\n",
      "cost = 0.69314718056\n",
      "theta is /n [ -0.1        -12.00921659 -11.26284221]\n"
     ]
    }
   ],
   "source": [
    "cost = costFun(theta, X, Y)\n",
    "theta1 = gradient(theta, X, Y)\n",
    "print 'cost = '+str(cost)\n",
    "print 'theta is /n',theta1"
   ]
  },
  {
   "cell_type": "code",
   "execution_count": 10,
   "metadata": {
    "collapsed": false
   },
   "outputs": [
    {
     "name": "stderr",
     "output_type": "stream",
     "text": [
      "/Users/yuancailei/anaconda2/lib/python2.7/site-packages/ipykernel/__main__.py:12: RuntimeWarning: divide by zero encountered in log\n"
     ]
    },
    {
     "data": {
      "text/plain": [
       "      fun: 0.20349770158944375\n",
       " hess_inv: array([[  3.31474479e+03,  -2.63892205e+01,  -2.70237122e+01],\n",
       "       [ -2.63892205e+01,   2.23869433e-01,   2.02682332e-01],\n",
       "       [ -2.70237122e+01,   2.02682332e-01,   2.35335117e-01]])\n",
       "      jac: array([ -9.52476824e-09,  -9.31921320e-07,  -2.82608931e-07])\n",
       "  message: 'Optimization terminated successfully.'\n",
       "     nfev: 31\n",
       "      nit: 23\n",
       "     njev: 31\n",
       "   status: 0\n",
       "  success: True\n",
       "        x: array([-25.16133284,   0.2062317 ,   0.2014716 ])"
      ]
     },
     "execution_count": 10,
     "metadata": {},
     "output_type": "execute_result"
    }
   ],
   "source": [
    "#使用minimize优化函数，不用像之前线下回归一个对梯度进行梯度下降多伦迭代，设置alpha值和迭代次数\n",
    "res = minimize(costFun, theta, args=(X,Y), method=None, jac=gradient, options={'maxiter':400})\n",
    "res\n"
   ]
  },
  {
   "cell_type": "code",
   "execution_count": 11,
   "metadata": {
    "collapsed": false
   },
   "outputs": [
    {
     "name": "stdout",
     "output_type": "stream",
     "text": [
      "0.776290724059\n",
      "[1]\n",
      "Train accuracy 89%\n"
     ]
    }
   ],
   "source": [
    "#Predict\n",
    "def predict(theta, X, threshold=0.5):\n",
    "    return (sigmoid(theta.dot(X.T)) >= threshold).astype('int')\n",
    "\n",
    "print sigmoid(np.array([1, 45, 85]).dot(res.x.T))\n",
    "print predict(res.x, np.array([1, 45, 85]).reshape(1,3))\n",
    "p = predict(res.x, X) \n",
    "print('Train accuracy {}%'.format(100*sum(p == Y.ravel())/p.size))"
   ]
  },
  {
   "cell_type": "code",
   "execution_count": 12,
   "metadata": {
    "collapsed": false
   },
   "outputs": [
    {
     "name": "stdout",
     "output_type": "stream",
     "text": [
      "(100, 3)\n"
     ]
    },
    {
     "data": {
      "image/png": "[encoded data removed]",
      "text/plain": [
       "<matplotlib.figure.Figure at 0x11be19bd0>"
      ]
     },
     "metadata": {},
     "output_type": "display_data"
    }
   ],
   "source": [
    "#Training set with decidsion bourdary\n",
    "def plotData(data, label_x, label_y, label_pos, label_neg, axes=None):\n",
    "    # Get indexes for class 0 and class 1\n",
    "    neg = data[:,2] == 0\n",
    "    pos = data[:,2] == 1\n",
    "#     print neg\n",
    "    # If no specific axes object has been passed, get the current axes.\n",
    "    if axes == None:\n",
    "        axes = plt.gca()\n",
    "    axes.scatter(data[pos][:,0], data[pos][:,1], marker='+', c='k', s=60, linewidth=2, label=label_pos)\n",
    "    axes.scatter(data[neg][:,0], data[neg][:,1], c='y', s=60, label=label_neg)\n",
    "    axes.set_xlabel(label_x)\n",
    "    axes.set_ylabel(label_y)\n",
    "    axes.legend(frameon= True, fancybox = True);\n",
    "    \n",
    "print data.shape\n",
    "plt.scatter(45, 85, s=60, c='r', marker='v', label='(45, 85)')\n",
    "plotData(data, 'Exam 1 score', 'Exam 2 score', 'Admitted', 'Not admitted')\n",
    "x1_min, x1_max = X[:,1].min(), X[:,1].max(),\n",
    "x2_min, x2_max = X[:,2].min(), X[:,2].max(),\n",
    "xx1, xx2 = np.meshgrid(np.linspace(x1_min, x1_max), np.linspace(x2_min, x2_max))\n",
    "h = sigmoid(np.c_[np.ones((xx1.ravel().shape[0],1)), xx1.ravel(), xx2.ravel()].dot(res.x))\n",
    "h = h.reshape(xx1.shape)\n",
    "plt.contour(xx1, xx2, h, [0.5], linewidths=1, colors='b')\n",
    "plt.show();"
   ]
  },
  {
   "cell_type": "markdown",
   "metadata": {
    "collapsed": true
   },
   "source": [
    "如上图，看了data1数据的分布， theta0 + theta1*x1 + theta2*x2 这种线性分类可以模拟data1数据。\n",
    "但是查看了data2的数据分布，就不能用简单的一次函数来模拟了,下面是使用PolynomialFeatures方法将特征变为6次多项式\n",
    "\n"
   ]
  },
  {
   "cell_type": "code",
   "execution_count": 13,
   "metadata": {
    "collapsed": false
   },
   "outputs": [
    {
     "data": {
      "image/png": "[encoded data removed]",
      "text/plain": [
       "<matplotlib.figure.Figure at 0x11be0d250>"
      ]
     },
     "metadata": {},
     "output_type": "display_data"
    }
   ],
   "source": [
    "data2 = np.loadtxt('data/ex2data2.txt',delimiter=',')\n",
    "plotData(data2, 'Microchip 1', 'Microchip 2', 'y = 1', 'y = 0')\n",
    "plt.show();"
   ]
  },
  {
   "cell_type": "code",
   "execution_count": 17,
   "metadata": {
    "collapsed": false
   },
   "outputs": [
    {
     "data": {
      "text/plain": [
       "(118, 28)"
      ]
     },
     "execution_count": 17,
     "metadata": {},
     "output_type": "execute_result"
    }
   ],
   "source": [
    "# Note that this function inserts a column with 'ones' in the design matrix for the intercept.\n",
    "poly = PolynomialFeatures(6)\n",
    "XX = poly.fit_transform(data2[:,0:2])\n",
    "YY = np.c_[data2[:,2]]\n",
    "XX.shape"
   ]
  },
  {
   "cell_type": "markdown",
   "metadata": {
    "collapsed": true
   },
   "source": [
    "这种情况可以有两种方式解决：\n",
    "\n",
    "1.用x1，x2映射出更多的特征来拟合，六次多项式，这种方式就会map出很多的feature，这种方式会让逻辑回归出现更复杂的计算，并且desidsion bounary会分复杂，并且经常不会收敛\n",
    "<img src=\"pic/exe2/mapFeature.png\" width=30% height=30%>\n",
    "2.多6次多项式使用正则化来处理：\n",
    "正则化处理多项式过拟合的问题，在迭代过程中，它能让高阶特征的thata参数变得很小，在视频中，也可以使用L1正则化对梯度下降算法进行改进,(但为什么theta从1开始?)\n",
    "<img src=\"pic/exe2/reg.png\" width=60% height=60%>"
   ]
  },
  {
   "cell_type": "code",
   "execution_count": 19,
   "metadata": {
    "collapsed": false
   },
   "outputs": [
    {
     "data": {
      "text/plain": [
       "0.69314718055994518"
      ]
     },
     "execution_count": 19,
     "metadata": {},
     "output_type": "execute_result"
    }
   ],
   "source": [
    "def cost_fun_reg(theta, X, Y, reg) :\n",
    "#     print 'in cost_fun_reg'\n",
    "#     print 'theta.shape = ',theta.shape\n",
    "#     print 'X.shape = ',X.shape\n",
    "#     print 'Y.shape = ',Y.shape\n",
    "    \"\"\"\n",
    "    costFun 向量化，矩阵化表示\n",
    "    theta: 1*n\n",
    "    X: m*n\n",
    "    Y: m*1\n",
    "    reg : 正则化系数\n",
    "    \"\"\"\n",
    "    # h: 1*m\n",
    "    m = X.shape[0]\n",
    "    h = hyposthesis(theta, X)\n",
    "    \n",
    "    # the second term is regular\n",
    "    J = 1.0/m*(-(np.log(h).dot(Y)) - np.log(1-h.T).dot((1-Y))) + reg/(2*m)*np.sum(np.square(theta[1:]))\n",
    "    return J[0]\n",
    "    \n",
    "# theta = np.zeros(X.shape[1])\n",
    "cost_fun_reg(theta, X, Y, 1)\n",
    "\n",
    "\n",
    "\n",
    "\n"
   ]
  },
  {
   "cell_type": "markdown",
   "metadata": {},
   "source": [
    "<img src=\"pic/exe2/gra_reg_0.png\" width=40% height=40%>\n",
    "<img src=\"pic/exe2/gra_reg_1.png\" width=40% height=40%>"
   ]
  },
  {
   "cell_type": "code",
   "execution_count": 20,
   "metadata": {
    "collapsed": false
   },
   "outputs": [
    {
     "data": {
      "text/plain": [
       "array([ -0.1       , -12.00921659, -11.26284221])"
      ]
     },
     "execution_count": 20,
     "metadata": {},
     "output_type": "execute_result"
    }
   ],
   "source": [
    "#梯度正则化\n",
    "def gradient_reg(theta, X, Y, reg):\n",
    "#     print 'theta.shape = ',theta.shape\n",
    "#     print 'X.shape = ',X.shape\n",
    "#     print 'Y.shape = ',Y.shape\n",
    "\n",
    "    \"\"\"\n",
    "    注意theta0 与 theta1,2..... 分开计算\n",
    "    theta: 一维数组\n",
    "    X: m*n\n",
    "    Y: m*1\n",
    "    return 一维数组\n",
    "    \"\"\"\n",
    "    m = X.shape[0]\n",
    "    H = hyposthesis(theta, X)\n",
    "    \n",
    "    theta_reg = np.zeros(X.shape[1])\n",
    "    theta_reg[0] = (1.0/m*((H-Y.T).dot(X[:,0]))).flatten()\n",
    "#     print theta_reg[0]\n",
    "    \n",
    "    theta_reg[1:] = (1.0/m*((H-Y.T).dot(X[:,1:])) + reg/m*theta[1:]).flatten()\n",
    "    \n",
    "    return theta_reg\n",
    "\n",
    "gradient_reg(theta, X, Y, 1)\n"
   ]
  },
  {
   "cell_type": "code",
   "execution_count": 21,
   "metadata": {
    "collapsed": false
   },
   "outputs": [],
   "source": [
    "fig, axes = plt.subplots(1,3, sharey = True, figsize=(17,5))\n",
    "\n",
    "# Decision boundaries\n",
    "# Lambda = 0 : No regularization --> too flexible, overfitting the training data\n",
    "# Lambda = 1 : Looks about right\n",
    "# Lambda = 100 : Too much regularization --> high bias\n",
    "# res2 = minimize(cost_fun_reg, theta, args=(X,Y,1), method=None, jac=gradient_reg, options={'maxiter':400})\n",
    "# res2\n",
    "\n",
    "# print Y.size\n",
    "# print Y.ravel()\n",
    "\n",
    "initial_theta = np.zeros(XX.shape[1])\n",
    "\n",
    "for i, C in enumerate([0, 1, 100]):\n",
    "    # Optimize costFunctionReg\n",
    "    res2 = minimize(cost_fun_reg, initial_theta, args=(XX, YY, C), method=None, jac=gradient_reg, options={'maxiter':100})\n",
    "    res2\n",
    "    # Accuracy\n",
    "    accuracy = 100*sum(predict(res2.x, XX) == YY.ravel())/YY.size    \n",
    "\n",
    "    # Scatter plot of X,y\n",
    "    plotData(data2, 'Microchip Test 1', 'Microchip Test 2', 'y = 1', 'y = 0', axes.flatten()[i])\n",
    "    \n",
    "    # Plot decisionboundary\n",
    "    x1_min, x1_max = X[:,0].min(), X[:,0].max(),\n",
    "    x2_min, x2_max = X[:,1].min(), X[:,1].max(),\n",
    "    xx1, xx2 = np.meshgrid(np.linspace(x1_min, x1_max), np.linspace(x2_min, x2_max))\n",
    "    h = sigmoid(poly.fit_transform(np.c_[xx1.ravel(), xx2.ravel()]).dot(res2.x))\n",
    "    h = h.reshape(xx1.shape)\n",
    "    axes.flatten()[i].contour(xx1, xx2, h, [0.5], linewidths=1, colors='g');       \n",
    "    axes.flatten()[i].set_title('Train accuracy {}% with Lambda = {}'.format(np.round(accuracy, decimals=2), C))"
   ]
  },
  {
   "cell_type": "markdown",
   "metadata": {
    "collapsed": true
   },
   "source": [
    "<img src=\"pic/exe2/data2-ret.png\">"
   ]
  },
  {
   "cell_type": "code",
   "execution_count": null,
   "metadata": {
    "collapsed": true
   },
   "outputs": [],
   "source": []
  }
 ],
 "metadata": {
  "kernelspec": {
   "display_name": "Python 2",
   "language": "python",
   "name": "python2"
  },
  "language_info": {
   "codemirror_mode": {
    "name": "ipython",
    "version": 2
   },
   "file_extension": ".py",
   "mimetype": "text/x-python",
   "name": "python",
   "nbconvert_exporter": "python",
   "pygments_lexer": "ipython2",
   "version": "2.7.13"
  }
 },
 "nbformat": 4,
 "nbformat_minor": 2
}
