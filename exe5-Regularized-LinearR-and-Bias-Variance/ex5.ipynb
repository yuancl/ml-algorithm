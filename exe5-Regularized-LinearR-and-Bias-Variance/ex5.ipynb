{
 "cells": [
  {
   "cell_type": "code",
   "execution_count": 44,
   "metadata": {
    "collapsed": false
   },
   "outputs": [
    {
     "name": "stdout",
     "output_type": "stream",
     "text": [
      "['ytest', 'yval', '__header__', '__globals__', 'Xtest', 'Xval', 'y', 'X', '__version__']\n",
      "x.shape =  (12, 1)\n"
     ]
    },
    {
     "data": {
      "image/png": "[encoded data removed]",
      "text/plain": [
       "<matplotlib.figure.Figure at 0x110092bd0>"
      ]
     },
     "metadata": {},
     "output_type": "display_data"
    }
   ],
   "source": [
    "import numpy as np\n",
    "import scipy.io as sio\n",
    "import matplotlib.pyplot as plt\n",
    "\n",
    "from linear_reg_cost_function import linear_reg_cost_function\n",
    "\n",
    "mat_data = sio.loadmat('data/ex5data1.mat')\n",
    "print mat_data.keys()\n",
    "X = mat_data['X']\n",
    "print 'x.shape = ',X.shape\n",
    "y = mat_data['y'].ravel()\n",
    "X_test = mat_data['Xtest']\n",
    "y_test = mat_data['ytest'].ravel()\n",
    "X_val = mat_data['Xval']\n",
    "y_val = mat_data['yval'].ravel()\n",
    "m = X.shape[0]\n",
    "m_val = X_val.shape[0]\n",
    "m_test = X_test.shape[0]\n",
    "\n",
    "plt.figure()\n",
    "plt.plot(X, y, linestyle='', marker='x', color='r')\n",
    "plt.xlabel('Change in water level (x)')\n",
    "plt.ylabel('Water flowing out of the dam (y)')\n",
    "plt.show()"
   ]
  },
  {
   "cell_type": "markdown",
   "metadata": {},
   "source": [
    "### cost function:\n",
    "<img src='pic/liner_reg_cost_fun.jpg' width=60% height=60%/>\n",
    "### gradient:\n",
    "梯度下降的公式推导可以看exe1<br>\n",
    "<img src='pic/linear_cost_gradient.jpg' width=60% height=60%>"
   ]
  },
  {
   "cell_type": "code",
   "execution_count": 65,
   "metadata": {
    "collapsed": false
   },
   "outputs": [
    {
     "data": {
      "text/plain": [
       "(303.99319222026429, array([ -15.30301567,  598.25074417]))"
      ]
     },
     "execution_count": 65,
     "metadata": {},
     "output_type": "execute_result"
    }
   ],
   "source": [
    "def linear_reg_cost_function(theta, X, y,  lambda_):\n",
    "    \"\"\"\n",
    "    X is an two dimen array: each col is a feature,and each row is an example\n",
    "    注意正则化部分是不计算theta0的\n",
    "    \"\"\"\n",
    "    H = theta.dot(X.T)\n",
    "    m  = X.shape[0]\n",
    "    J = 1.0/(2*m)*np.sum(np.square(H-y)) + lambda_/(2.0*m) * np.sum(theta[1:])\n",
    "\n",
    "    #梯度计算\n",
    "    grad = np.zeros(theta.shape[0])\n",
    "#     grad[0] = 1.0/m*np.sum((H - y)*1)\n",
    "#     grad[1:] = (1.0/m*np.sum((H - y).dot(X[:,1:])) + lambda_/m*theta[1:])\n",
    "    mask = np.eye(len(theta))\n",
    "    mask[0, 0] = 0\n",
    "    grad = 1.0 / m * X.T.dot(X.dot(theta) - y) + 1.0 * lambda_ / m * (mask.dot(theta))\n",
    "\n",
    "    return (J, grad)\n",
    "\n",
    "\n",
    "XX = np.c_[np.ones(X.shape[0]), X]\n",
    "init_theta = np.ones(XX.shape[1])\n",
    "linear_reg_cost_function(init_theta, XX, y,  1)\n"
   ]
  },
  {
   "cell_type": "code",
   "execution_count": 46,
   "metadata": {
    "collapsed": true
   },
   "outputs": [],
   "source": [
    "import scipy.optimize as opt\n",
    "def train_linear_reg(X, y, l, iteration=200):\n",
    "\n",
    "    m, n = X.shape\n",
    "    initial_theta = np.zeros((n, 1))\n",
    "\n",
    "    result = opt.minimize(fun=linear_reg_cost_function, x0=initial_theta, args=(X, y, l), method='TNC', jac=True,\n",
    "                          options={'maxiter': iteration})\n",
    "\n",
    "    return result.x\n",
    "\n"
   ]
  },
  {
   "cell_type": "markdown",
   "metadata": {},
   "source": [
    "## Training Linear regression\n",
    "The train_linear_reg() trains linear regression with given dataset and regularization parameter.because of  the regularization will not be incredibly helpful for a θ of such low dimension\n"
   ]
  },
  {
   "cell_type": "code",
   "execution_count": 47,
   "metadata": {
    "collapsed": false
   },
   "outputs": [
    {
     "data": {
      "image/png": "[encoded data removed]",
      "text/plain": [
       "<matplotlib.figure.Figure at 0x110132090>"
      ]
     },
     "metadata": {},
     "output_type": "display_data"
    }
   ],
   "source": [
    "l = 0.0\n",
    "theta = train_linear_reg(np.hstack((np.ones((m, 1)), X)), y, l)\n",
    "\n",
    "pred = np.hstack((np.ones((m, 1)), X)).dot(theta)\n",
    "\n",
    "plt.figure()\n",
    "plt.plot(X, y, linestyle='', marker='x', color='r')\n",
    "plt.plot(X, pred, linestyle='--', marker='', color='b')\n",
    "plt.xlabel('Change in water level (x)')\n",
    "plt.ylabel('Water flowing out of the dam (y)')\n",
    "plt.show()\n"
   ]
  },
  {
   "cell_type": "markdown",
   "metadata": {},
   "source": [
    "### Learning curve"
   ]
  },
  {
   "cell_type": "code",
   "execution_count": 85,
   "metadata": {
    "collapsed": true
   },
   "outputs": [],
   "source": [
    "def learning_curve(X, y, X_val, y_val, l):\n",
    "#     m = X.shape[0]\n",
    "#     J_train = np.zeros(m)\n",
    "#     J_val = np.zeros(m)\n",
    "#     for i in range(1, m+1):\n",
    "#         X_train = X[:i, :]\n",
    "#         Y_train = y[:i]\n",
    "#         theta = train_linear_reg(X_train, Y_train, 1.0)\n",
    "\n",
    "#         #linear_reg_cost_function 方法的时候暂时没有加入x0,需要在上层添加\n",
    "#         J_train[i-1] = linear_reg_cost_function(theta, X_train, Y_train, 0)[0]\n",
    "#         J_val[i-1] = linear_reg_cost_function(theta, X_val, y_val, 0)[0]\n",
    "\n",
    "#     return (J_train, J_val)\n",
    "    m = X.shape[0]\n",
    "    m_val = X_val.shape[0]\n",
    "    error_train = np.zeros(m)\n",
    "    error_val = np.zeros(m)\n",
    "\n",
    "    for i in range(1, m + 1):\n",
    "        theta = train_linear_reg(X[:i, ], y[:i, ], l)\n",
    "        error_train[i - 1] = 1.0 / (2 * i) * np.sum(np.square(X[:i, ].dot(theta) - y[:i, ]))\n",
    "        error_val[i - 1] = 1.0 / (2 * m_val) * np.sum(np.square(X_val.dot(theta) - y_val))\n",
    "\n",
    "    return error_train, error_val\n",
    "\n"
   ]
  },
  {
   "cell_type": "markdown",
   "metadata": {},
   "source": [
    "### Plot Learning curve"
   ]
  },
  {
   "cell_type": "code",
   "execution_count": 86,
   "metadata": {
    "collapsed": false
   },
   "outputs": [
    {
     "data": {
      "image/png": "[encoded data removed]",
      "text/plain": [
       "<matplotlib.figure.Figure at 0x105555d10>"
      ]
     },
     "metadata": {},
     "output_type": "display_data"
    },
    {
     "name": "stdout",
     "output_type": "stream",
     "text": [
      "# Training Examples / Train Error / Cross Validation Error\n",
      "  1                   0.00000000    205.12109571\n",
      "  2                   0.00000000    110.30264078\n",
      "  3                   3.28659505    45.01023135\n",
      "  4                   2.84267769    48.36891025\n",
      "  5                   13.15404881   35.86516477\n",
      "  6                   19.44396251   33.82996152\n",
      "  7                   20.09852166   31.97098583\n",
      "  8                   18.17285870   30.86244631\n",
      "  9                   22.60940542   31.13599791\n",
      "  10                  23.26146159   28.93620747\n",
      "  11                  24.31724959   29.55143162\n",
      "  12                  22.37390650   29.43381813\n"
     ]
    }
   ],
   "source": [
    "l = 0.0\n",
    "error_train, error_val = learning_curve(np.hstack((np.ones((m, 1)), X)), y, np.hstack((np.ones((m_val, 1)), X_val)), y_val, l)\n",
    "\n",
    "plt.figure()\n",
    "plt.plot(range(1, m + 1), error_train, color='b', label='Train')\n",
    "plt.plot(range(1, m + 1), error_val, color='r', label='Cross Validation')\n",
    "plt.legend(loc='upper right')\n",
    "plt.xlabel('Number of training examples')\n",
    "plt.ylabel('Error')\n",
    "plt.show()\n",
    "\n",
    "print '# Training Examples / Train Error / Cross Validation Error'\n",
    "for i in range(m):\n",
    "    print '  {0:<19} {1:<13.8f} {2:<.8f}'.format(i + 1, error_train[i], error_val[i])\n",
    "    "
   ]
  },
  {
   "cell_type": "markdown",
   "metadata": {},
   "source": [
    "### High bias\n",
    "训练集和测试集loss都比较大，是典型的high bias，所有会用多项式去刻画改进 <br>\n",
    "you can observe that both the train error and cross validation\n",
    "error are high when the number of training examples is increased. This\n",
    "reflects a high bias problem in the model – the linear regression model is too simple and is unable to fit our dataset well. In the next section, you will\n",
    "implement polynomial regression to fit a better model for this dataset."
   ]
  },
  {
   "cell_type": "markdown",
   "metadata": {},
   "source": [
    "1.将x映射为多项式：Maps X (1D vector) into the p-th power. <br>\n",
    "2.标准化，如果不标准化，那么有些数值会变的非常大，所有标准化也能加速收敛 <br>"
   ]
  },
  {
   "cell_type": "code",
   "execution_count": 50,
   "metadata": {
    "collapsed": true
   },
   "outputs": [],
   "source": [
    "def poly_features(X, p):\n",
    "    \"\"\"\n",
    "    Maps X (1D vector) into the p-th power.\n",
    "    \"\"\"\n",
    "    X_poly = np.zeros((len(X), p))\n",
    "\n",
    "    for i in range(p):\n",
    "        X_poly[:, i] = np.power(X, i + 1).ravel()\n",
    "\n",
    "    return X_poly\n",
    "\n",
    "def feature_normalize(X, mu=None, sigma=None):\n",
    "    \"\"\"\n",
    "    Normalizes the features in x.\n",
    "    \"\"\"\n",
    "    if mu is None:\n",
    "        mu = np.mean(X, axis=0)\n",
    "\n",
    "    if sigma is None:\n",
    "        sigma = np.std(X, ddof=1, axis=0)\n",
    "\n",
    "    X_norm = (X - mu) / sigma\n",
    "\n",
    "#     mu = np.mean(X, axis=0)\n",
    "#     sigma = np.std(X, ddof=1, axis=0)\n",
    "#     X_norm = (X - mu) / sigma\n",
    "    \n",
    "#     mean = X.mean(axis=0)\n",
    "#     std = X.std(axis=0)\n",
    "#     X_norm = (X-mean)/std\n",
    "    \n",
    "    return X_norm, mu, sigma\n",
    "\n",
    "\n",
    "def plot_fit(min_x, max_x, mu, sigma, theta, p):\n",
    "    \"\"\"\n",
    "    根据计算得到的参数，画出h(x)的曲线图\n",
    "    Plots a learned polynomial regression fit over an existing figure.\n",
    "    \"\"\"\n",
    "    x = np.arange(min_x - 15, max_x + 25, 0.05)\n",
    "    X_poly = poly_features(x, p)  #add feature\n",
    "    X_poly, dummy_mu, dummy_sigma = feature_normalize(X_poly, mu, sigma) #正则化\n",
    "    X_poly = np.hstack((np.ones((X_poly.shape[0], 1)), X_poly)) #构造x0\n",
    "    plt.plot(x, X_poly.dot(theta), linestyle='--', marker='', color='b') #plot\n",
    "    "
   ]
  },
  {
   "cell_type": "markdown",
   "metadata": {},
   "source": [
    "### 画出曲线图，看下刻画情况\n",
    "1.从结果可以看，因为正则化系数lambda为0，所以可以看见多项式刻画数据集很精确，但是泛化性不好，High variance的体现 <br>\n",
    "2.cost图中，训练集和交叉验证集，中间存在gap，也是High variance的体现"
   ]
  },
  {
   "cell_type": "code",
   "execution_count": 66,
   "metadata": {
    "collapsed": false
   },
   "outputs": [
    {
     "data": {
      "image/png": "[encoded data removed]",
      "text/plain": [
       "<matplotlib.figure.Figure at 0x11128fd10>"
      ]
     },
     "metadata": {},
     "output_type": "display_data"
    }
   ],
   "source": [
    "#将训练集，交叉验证集，测试集分别add feature ，标准化\n",
    "p = 8\n",
    "X_poly = poly_features(X, p)\n",
    "X_poly, mu, sigma = feature_normalize(X_poly)\n",
    "X_poly = np.hstack((np.ones((m, 1)), X_poly))\n",
    "\n",
    "\n",
    "# print 'X_poly.shape = ',X_poly.shape,X.shape\n",
    "# print '',X_poly[:,:4]\n",
    "\n",
    "X_poly_test = poly_features(X_test, p)\n",
    "X_poly_test, dummy_mu, dummy_sigma = feature_normalize(X_poly_test, mu, sigma)\n",
    "X_poly_test = np.hstack((np.ones((m_test, 1)), X_poly_test))\n",
    "\n",
    "X_poly_val = poly_features(X_val, p)\n",
    "X_poly_val, dummy_mu, dummy_sigma = feature_normalize(X_poly_val, mu, sigma)\n",
    "X_poly_val = np.hstack((np.ones((m_val, 1)), X_poly_val))\n",
    "\n",
    "\n",
    "#plot h(x)\n",
    "l = 0.0\n",
    "theta = train_linear_reg(X_poly, y, l, iteration=500)\n",
    "\n",
    "plt.figure()\n",
    "plt.plot(X, y, linestyle='', marker='x', color='r') #画原始数据点\n",
    "plot_fit(np.min(X), np.max(X), mu, sigma, theta, p) #刻画h(x)\n",
    "plt.xlabel('Change in water level (x)')\n",
    "plt.ylabel('Water flowing out of the dam (y)')\n",
    "plt.title('Polynomial Regression Fit (lambda = {})'.format(l))\n",
    "plt.show()\n"
   ]
  },
  {
   "cell_type": "markdown",
   "metadata": {},
   "source": [
    "Plot the learning curve for polynomial regression:"
   ]
  },
  {
   "cell_type": "code",
   "execution_count": 90,
   "metadata": {
    "collapsed": false
   },
   "outputs": [
    {
     "data": {
      "image/png": "[encoded data removed]",
      "text/plain": [
       "<matplotlib.figure.Figure at 0x1101ffd50>"
      ]
     },
     "metadata": {},
     "output_type": "display_data"
    }
   ],
   "source": [
    "l = 0.0\n",
    "J_train, J_val = learning_curve(np.hstack((np.ones((X_poly.shape[0], 1)), X_poly)), y, np.hstack((np.ones((X_poly_val.shape[0], 1)), X_poly_val)), y_val, l)\n",
    "# error_train, error_val = learning_curve(X_poly, y, X_poly_val, y_val, 0.0)\n",
    "plt.figure()\n",
    "plt.plot(range(1, m + 1), J_train, color='b', marker='v', label='Train')\n",
    "plt.plot(range(1, m + 1), J_val, color='r', label='Cross Validation')\n",
    "plt.legend(loc='upper right')\n",
    "plt.title('Polynomial Regression Learning Curve (lambda = {})'.format(l))\n",
    "plt.xlabel('Number of training examples')\n",
    "plt.ylabel('Error')\n",
    "# plt.xlim((0, 12))\n",
    "# plt.ylim((0, 40))\n",
    "plt.show()"
   ]
  },
  {
   "cell_type": "markdown",
   "metadata": {
    "collapsed": true
   },
   "source": [
    "### Validation for Selecting Lambda\n",
    "we can see that the best value of λ is around 3., the cross validation error <br>\n",
    "can sometimes be lower than the training error."
   ]
  },
  {
   "cell_type": "code",
   "execution_count": 71,
   "metadata": {
    "collapsed": false
   },
   "outputs": [
    {
     "data": {
      "image/png": "[encoded data removed]",
      "text/plain": [
       "<matplotlib.figure.Figure at 0x110f694d0>"
      ]
     },
     "metadata": {},
     "output_type": "display_data"
    },
    {
     "name": "stdout",
     "output_type": "stream",
     "text": [
      "# lambda / Train Error / Validation Error\n",
      "  0.0      0.02991107    45.18541474\n",
      "  0.001    0.11229959    10.13916356\n",
      "  0.003    0.17135417    16.24671543\n",
      "  0.01     0.22044675    17.18285930\n",
      "  0.03     0.28231014    13.03011673\n",
      "  0.1      0.45787936    7.56950778\n",
      "  0.3      0.92346833    4.63177637\n",
      "  1.0      2.07702755    4.25940487\n",
      "  3.0      4.90085874    3.82305108\n",
      "  10.0     16.09168213   9.94536559\n"
     ]
    }
   ],
   "source": [
    "def validation_curve(x, y, x_val, y_val):\n",
    "    \"\"\"\n",
    "    Generate the train and validation errors needed to plot a validation curve that we can use to select lambda.\n",
    "    \"\"\"\n",
    "    lambda_vec = np.array([0, 0.001, 0.003, 0.01, 0.03, 0.1, 0.3, 1, 3, 10])\n",
    "    error_train = np.zeros(len(lambda_vec))\n",
    "    error_val = np.zeros(len(lambda_vec))\n",
    "    m = x.shape[0]\n",
    "    m_val = x_val.shape[0]\n",
    "    for i in range(len(lambda_vec)):\n",
    "        l = lambda_vec[i]\n",
    "        theta = train_linear_reg(x, y, l)\n",
    "        error_train[i] = 1.0 / (2 * m) * np.sum(np.square(x.dot(theta) - y))\n",
    "        error_val[i] = 1.0 / (2 * m_val) * np.sum(np.square(x_val.dot(theta) - y_val))\n",
    "\n",
    "    return lambda_vec, error_train, error_val\n",
    "\n",
    "\n",
    "\n",
    "lambda_vec, error_train, error_val = validation_curve(X_poly, y, X_poly_val, y_val)\n",
    "\n",
    "plt.figure()\n",
    "plt.plot(lambda_vec, error_train, color='b', label='Train')\n",
    "plt.plot(lambda_vec, error_val, color='r', label='Cross Validation')\n",
    "plt.legend(loc='upper right')\n",
    "plt.xlabel('lambda')\n",
    "plt.ylabel('Error')\n",
    "plt.xlim((0, 10))\n",
    "plt.ylim((0, 45))\n",
    "plt.show()\n",
    "\n",
    "print '# lambda / Train Error / Validation Error'\n",
    "for i in range(len(lambda_vec)):\n",
    "    print '  {0:<8} {1:<13.8f} {2:<.8f}'.format(lambda_vec[i], error_train[i], error_val[i])\n",
    "    \n",
    "    "
   ]
  },
  {
   "cell_type": "markdown",
   "metadata": {},
   "source": [
    "#### lambda分别为0，1，2.8的learning curve\n",
    "<center class=\"half\">\n",
    "    <img src='pic/linear_reg_lambda0.png' width=30% height=30%/>\n",
    "    <img src='pic/linear_reg_lambda1.png' width=30% height=30%/>\n",
    "    <img src='pic/linear_reg_lambda3.png' width=30% height=30%/>\n",
    "</center>"
   ]
  },
  {
   "cell_type": "markdown",
   "metadata": {},
   "source": [
    "### Test"
   ]
  },
  {
   "cell_type": "code",
   "execution_count": 100,
   "metadata": {
    "collapsed": false
   },
   "outputs": [
    {
     "data": {
      "text/plain": [
       "3.859433929058433"
      ]
     },
     "execution_count": 100,
     "metadata": {},
     "output_type": "execute_result"
    }
   ],
   "source": [
    "# X_poly_test\n",
    "l = 3.0\n",
    "theta = train_linear_reg(X_poly, y, l)\n",
    "m = X_poly_test.shape[0]\n",
    "error_test = 1.0 / (2 * m) * np.sum(np.square(X_poly_test.dot(theta) - y_test))\n",
    "error_test"
   ]
  },
  {
   "cell_type": "code",
   "execution_count": null,
   "metadata": {
    "collapsed": true
   },
   "outputs": [],
   "source": []
  }
 ],
 "metadata": {
  "kernelspec": {
   "display_name": "Python 2",
   "language": "python",
   "name": "python2"
  },
  "language_info": {
   "codemirror_mode": {
    "name": "ipython",
    "version": 2
   },
   "file_extension": ".py",
   "mimetype": "text/x-python",
   "name": "python",
   "nbconvert_exporter": "python",
   "pygments_lexer": "ipython2",
   "version": "2.7.13"
  }
 },
 "nbformat": 4,
 "nbformat_minor": 2
}
