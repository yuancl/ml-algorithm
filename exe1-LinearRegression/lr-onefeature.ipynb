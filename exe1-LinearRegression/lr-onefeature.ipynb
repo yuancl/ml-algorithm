{
 "cells": [
  {
   "cell_type": "code",
   "execution_count": 105,
   "metadata": {
    "collapsed": false
   },
   "outputs": [
    {
     "data": {
      "text/plain": [
       "32.072733877455676"
      ]
     },
     "execution_count": 105,
     "metadata": {},
     "output_type": "execute_result"
    }
   ],
   "source": [
    "import pandas as pd\n",
    "import numpy as np\n",
    "import matplotlib.pyplot as plt\n",
    "\n",
    "data = np.loadtxt('data/ex1data1.txt', delimiter=',')\n",
    "m = data.shape[0]\n",
    "# print m\n",
    "# theta = np.zeros(2).reshape(1,2)\n",
    "# X = np.array([np.ones(m),data[:,0]]).T\n",
    "Y = data[:,1].reshape(1,m)\n",
    "\n",
    "#特征数据标准化\n",
    "data = feature_norm(data)\n",
    "\n",
    "X = np.c_[np.ones(m), data[:,0]]\n",
    "# print X.shape\n",
    "# print 'X.shape = '+str(X.shape)\n",
    "# print 'Y.shape = '+str(Y.shape)\n",
    "# h = np.dot(theta, X.T)\n",
    "# print 'h.shape = '+str(h.shape)\n",
    "\n",
    "\n",
    "# print 1.0/(2*m)\n",
    "# print np.sum(np.square(h-Y))\n",
    "\n",
    "def cost_fun(X,Y,theta=np.zeros(X.shape[1]).reshape(1,2)):\n",
    "    \"\"\"\n",
    "    X is an two dimen array: each col is a feature,and each row is an example\n",
    "    \"\"\"\n",
    "    H = theta.dot(X.T)\n",
    "    m  = X.shape[0]\n",
    "    return 1.0/(2*m)*np.sum(np.square(H-Y))\n",
    "    \n",
    "    \n",
    "def feature_norm(X):\n",
    "    \"\"\"\n",
    "    each col is a feature,and each row is an example\n",
    "    \"\"\"\n",
    "    m = X.shape[0]\n",
    "    n = X.shape[1]\n",
    "    mean = X.mean(axis=0)\n",
    "    std = X.std(axis=0)\n",
    "    X_norm = (X-mean)/std\n",
    "    return X_norm\n",
    "    \n",
    "    \n",
    "def grad_descend(X,Y,theta=np.zeros(2).reshape(1,2),alpha=0.01,num_iters=1000) :\n",
    "    \"\"\"\n",
    "    X is an two dimen array: each col is a feature,and each row is an example\n",
    "    \"\"\"\n",
    "    m = X.shape[0]\n",
    "    J_history = np.zeros(num_iters)\n",
    "    for iter in np.arange(num_iters):\n",
    "        J_history[iter] = cost_fun(X,Y,theta)\n",
    "        H = theta.dot(X.T)\n",
    "#         partial_dirivate = 1.0/m*(H-Y)\n",
    "        theta = theta - alpha*1.0/m*(H-Y).dot(X)\n",
    "    return (theta, J_history)\n",
    "    \n",
    "    \n",
    "    \n",
    "cost_fun(X, Y)\n",
    "# grad_descend(X, Y)\n",
    "# print Y\n",
    "# Y = data[:,1]"
   ]
  },
  {
   "cell_type": "code",
   "execution_count": 106,
   "metadata": {
    "collapsed": false
   },
   "outputs": [
    {
     "data": {
      "image/png": "[encoded data removed]",
      "text/plain": [
       "<matplotlib.figure.Figure at 0x11cab9a50>"
      ]
     },
     "metadata": {},
     "output_type": "display_data"
    }
   ],
   "source": [
    "#数据分布\n",
    "plt.scatter(X[:,1], Y,s=10, c='r', marker='x', linewidths=10)\n",
    "plt.xlabel('x')\n",
    "plt.ylabel('y')\n",
    "plt.show()"
   ]
  },
  {
   "cell_type": "code",
   "execution_count": 107,
   "metadata": {
    "collapsed": false
   },
   "outputs": [
    {
     "data": {
      "image/png": "[encoded data removed]",
      "text/plain": [
       "<matplotlib.figure.Figure at 0x11c127150>"
      ]
     },
     "metadata": {},
     "output_type": "display_data"
    }
   ],
   "source": [
    "(theta, cost) = grad_descend(X, Y, num_iters=1000)\n",
    "# plt.ylim(4,10)\n",
    "plt.plot(cost)\n",
    "plt.ylabel('cost')\n",
    "plt.xlabel('Iterations')\n",
    "plt.show()"
   ]
  },
  {
   "cell_type": "code",
   "execution_count": null,
   "metadata": {
    "collapsed": true
   },
   "outputs": [],
   "source": []
  }
 ],
 "metadata": {
  "kernelspec": {
   "display_name": "Python 2",
   "language": "python",
   "name": "python2"
  },
  "language_info": {
   "codemirror_mode": {
    "name": "ipython",
    "version": 2
   },
   "file_extension": ".py",
   "mimetype": "text/x-python",
   "name": "python",
   "nbconvert_exporter": "python",
   "pygments_lexer": "ipython2",
   "version": "2.7.13"
  }
 },
 "nbformat": 4,
 "nbformat_minor": 2
}
